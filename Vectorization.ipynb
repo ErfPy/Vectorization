{
 "cells": [
  {
   "cell_type": "markdown",
   "metadata": {},
   "source": [
    "<img src='content_arrays-axes.png'>"
   ]
  },
  {
   "cell_type": "markdown",
   "metadata": {},
   "source": [
    "# Vectorization - get rid of `for loops`\n",
    "\n",
    "This notebooks goes through the concepts of Vectorization and how it can speed up your code when working with data.\n",
    "\n",
    "### Table of contents\n",
    "\n",
    "1. Why are for loops slow?\n",
    "2. Numpy broadcasting\n",
    "3. Pandas & numpy vectorized methods"
   ]
  }
 ],
 "metadata": {
  "kernelspec": {
   "display_name": "Python 3",
   "language": "python",
   "name": "python3"
  },
  "language_info": {
   "codemirror_mode": {
    "name": "ipython",
    "version": 3
   },
   "file_extension": ".py",
   "mimetype": "text/x-python",
   "name": "python",
   "nbconvert_exporter": "python",
   "pygments_lexer": "ipython3",
   "version": "3.7.4"
  }
 },
 "nbformat": 4,
 "nbformat_minor": 2
}
